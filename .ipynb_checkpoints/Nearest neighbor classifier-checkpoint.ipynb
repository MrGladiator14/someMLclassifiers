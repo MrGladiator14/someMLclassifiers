{
 "cells": [
  {
   "cell_type": "code",
   "execution_count": 1,
   "id": "f766ab45",
   "metadata": {},
   "outputs": [],
   "source": [
    "import pandas as pd\n",
    "import numpy as np\n",
    "import matplotlib.pyplot as plt\n",
    "%matplotlib inline\n",
    "from sklearn.neighbors import KNeighborsClassifier\n",
    "from sklearn.metrics import confusion_matrix\n",
    "from sklearn.metrics import classification_report\n",
    "import seaborn as sn"
   ]
  },
  {
   "cell_type": "code",
   "execution_count": 2,
   "id": "bfc8ea7c",
   "metadata": {},
   "outputs": [],
   "source": [
    "# Import training datasets\n",
    "class_1_train = pd.read_csv('linearSep/class1_train.txt', sep = ' ', names = ['Col_1','Col_2'])\n",
    "class_1_train['Class'] = 0\n",
    "class_2_train = pd.read_csv('linearSep/class2_train.txt', sep = ' ', names = ['Col_1','Col_2'])\n",
    "class_2_train['Class'] = 1\n",
    "class_3_train = pd.read_csv('linearSep/class3_train.txt', sep = ' ', names = ['Col_1','Col_2'])\n",
    "class_3_train['Class'] = 2\n"
   ]
  },
  {
   "cell_type": "code",
   "execution_count": 3,
   "id": "d8a6339c",
   "metadata": {},
   "outputs": [],
   "source": [
    "# Merge all the classes to create a single dataset\n",
    "train_arr = [class_1_train, class_2_train, class_3_train]\n",
    "train_01 = pd.concat([class_1_train,class_2_train])\n",
    "train_12 = pd.concat([class_2_train,class_3_train])\n",
    "train_31 = pd.concat([class_3_train,class_1_train])\n",
    "train = pd.concat(train_arr, ignore_index = True)"
   ]
  },
  {
   "cell_type": "code",
   "execution_count": null,
   "id": "df439fe6",
   "metadata": {},
   "outputs": [],
   "source": []
  }
 ],
 "metadata": {
  "kernelspec": {
   "display_name": "Python 3 (ipykernel)",
   "language": "python",
   "name": "python3"
  },
  "language_info": {
   "codemirror_mode": {
    "name": "ipython",
    "version": 3
   },
   "file_extension": ".py",
   "mimetype": "text/x-python",
   "name": "python",
   "nbconvert_exporter": "python",
   "pygments_lexer": "ipython3",
   "version": "3.10.9"
  }
 },
 "nbformat": 4,
 "nbformat_minor": 5
}
